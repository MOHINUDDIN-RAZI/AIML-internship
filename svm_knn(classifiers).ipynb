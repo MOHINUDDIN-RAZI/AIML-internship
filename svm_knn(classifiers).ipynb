{
  "nbformat": 4,
  "nbformat_minor": 0,
  "metadata": {
    "colab": {
      "provenance": []
    },
    "kernelspec": {
      "name": "python3",
      "display_name": "Python 3"
    },
    "language_info": {
      "name": "python"
    }
  },
  "cells": [
    {
      "cell_type": "code",
      "execution_count": 2,
      "metadata": {
        "colab": {
          "base_uri": "https://localhost:8080/"
        },
        "id": "ENuFNyOoncbC",
        "outputId": "069bac96-f7dc-4fd9-9e6b-bfb71ed8f0ff"
      },
      "outputs": [
        {
          "output_type": "stream",
          "name": "stdout",
          "text": [
            "Mounted at /content/gdrive\n"
          ]
        }
      ],
      "source": [
        "from google.colab import drive\n",
        "\n",
        "drive.mount('/content/gdrive')"
      ]
    },
    {
      "cell_type": "code",
      "source": [
        "import os\n",
        "os.chdir('/content/gdrive/My Drive/Internship')"
      ],
      "metadata": {
        "id": "7DbsyE45nz1m"
      },
      "execution_count": 3,
      "outputs": []
    },
    {
      "cell_type": "code",
      "source": [
        "import pandas as pd\n",
        "from sklearn.model_selection import train_test_split\n",
        "from sklearn import tree\n",
        "from sklearn.svm import SVC\n",
        "from sklearn.metrics import accuracy_score\n",
        "from sklearn.neighbors import KNeighborsClassifier\n",
        "df = pd.read_excel(\"flipkart_categories.xlsx\")\n",
        "#print(df)\n",
        "df.info()\n",
        "df.isnull().sum()\n",
        "from sklearn.preprocessing import LabelEncoder\n",
        "Le = LabelEncoder()\n",
        "df['Category_1'] = Le.fit_transform(df['Category_1'])\n",
        "df\n",
        "df['Category_2'] = Le.fit_transform(df['Category_2'])\n",
        "df['Category_3'] = Le.fit_transform(df['Category_3'])\n",
        "x = df.drop(['Category_1'],axis=1)\n",
        "y= df['Category_1']\n",
        "#print(x,y)\n",
        "X_train,X_test,y_train,y_test = train_test_split(x,y,random_state=20,test_size=0.2)\n",
        "\n",
        "rf =tree.DecisionTreeClassifier(criterion = 'entropy')\n",
        "dt = rf .fit(X_train, y_train)\n",
        "print(X_test[1:2])\n",
        "y_pred = dt.predict(X_test[1:2])\n",
        "print(y_pred)\n",
        "\n",
        "# Initialize and train the SVM classifier\n",
        "svm = SVC(kernel='linear', C=1.0)\n",
        "svm.fit(X_train, y_train)\n",
        "\n",
        "# Predict using the trained SVM classifier\n",
        "y_pred_svm = svm.predict(X_test)\n",
        "\n",
        "# Calculate accuracy\n",
        "accuracy_svm = accuracy_score(y_test, y_pred_svm)\n",
        "\n",
        "print(\"SVM Accuracy:\", accuracy_svm)\n",
        "\n",
        "# Initialize and train the KNN classifier\n",
        "knn = KNeighborsClassifier(n_neighbors=5)\n",
        "knn.fit(X_train, y_train)\n",
        "\n",
        "# Predict using the trained KNN classifier\n",
        "y_pred_knn = knn.predict(X_test)\n",
        "\n",
        "# Calculate accuracy\n",
        "accuracy_knn = accuracy_score(y_test, y_pred_knn)\n",
        "\n",
        "print(\"KNN Accuracy:\", accuracy_knn)\n",
        "\n"
      ],
      "metadata": {
        "id": "-UjK1bCBoFay",
        "outputId": "c227b143-9cec-42ce-e7a0-3ef012ff4d2d",
        "colab": {
          "base_uri": "https://localhost:8080/"
        }
      },
      "execution_count": 6,
      "outputs": [
        {
          "output_type": "stream",
          "name": "stdout",
          "text": [
            "<class 'pandas.core.frame.DataFrame'>\n",
            "RangeIndex: 317 entries, 0 to 316\n",
            "Data columns (total 3 columns):\n",
            " #   Column      Non-Null Count  Dtype \n",
            "---  ------      --------------  ----- \n",
            " 0   Category_1  317 non-null    object\n",
            " 1   Category_2  317 non-null    object\n",
            " 2   Category_3  317 non-null    object\n",
            "dtypes: object(3)\n",
            "memory usage: 7.6+ KB\n",
            "     Category_2  Category_3\n",
            "183          74         293\n",
            "[3]\n",
            "SVM Accuracy: 0.3125\n",
            "KNN Accuracy: 0.375\n"
          ]
        }
      ]
    }
  ]
}